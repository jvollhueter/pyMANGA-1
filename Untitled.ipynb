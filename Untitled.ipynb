{
 "cells": [
  {
   "cell_type": "markdown",
   "id": "89fe5dc8",
   "metadata": {},
   "source": [
    "<img src='logo_FU.png' align='right' width='25%'></img>"
   ]
  },
  {
   "cell_type": "markdown",
   "id": "0ba3d96b",
   "metadata": {},
   "source": [
    "# **pyMANGA**"
   ]
  },
  {
   "cell_type": "code",
   "execution_count": null,
   "id": "44d16a8d",
   "metadata": {},
   "outputs": [],
   "source": [
    "import MANGA\n",
    "from MANGA import main\n",
    "from ipywidgets import *\n",
    "%matplotlib tk\n",
    "\n",
    "\n",
    "def setParameters(species, salinity):\n",
    "    if species == 'Avicennia':\n",
    "        Par.species = 'avi'\n",
    "    elif species == 'Rhizophora':\n",
    "        Par.species = 'rhi'\n",
    "    elif species == 'Beide kombiniert':\n",
    "        Par.species = 'avi_rhi'\n",
    "\n",
    "    if salinity == '0 - 0':\n",
    "        Par.salinity = '/00.xml'\n",
    "    elif salinity == '0 - 3.5':\n",
    "        Par.salinity = '/035.xml'\n",
    "    elif salinity == '3.5 - 7':\n",
    "        Par.salinity = '/357.xml'\n",
    "    elif salinity == '3.5 - 12':\n",
    "        Par.salinity = '/3512.xml'\n",
    "\n",
    "\n",
    "def runModel(self):\n",
    "    path = ['-i', 'lndw/' + Par.species + Par.salinity]\n",
    "    main(path)\n",
    "\n",
    "    \n",
    "class Par():\n",
    "    def init(self):\n",
    "        self.species = 'Avicennia'\n",
    "        self.salinity = '0 0.035'\n",
    "\n",
    "Par()\n",
    "\n",
    "\n",
    "interact(setParameters,\n",
    "    species = widgets.RadioButtons(options=['Avicennia',\n",
    "                                            'Rhizophora',\n",
    "                                            'Beide kombiniert'],\n",
    "                                   layout={'width': 'max-content'},\n",
    "                                   description='Vegetation:',\n",
    "                                   style={'description_width': 'initial'}),\n",
    "    salinity = widgets.RadioButtons(options=['0 - 3.5',\n",
    "                                             '3.5 - 7',\n",
    "                                             '3.5 - 12'],\n",
    "                                   layout={'width': 'max-content'},\n",
    "                                   description='Salinität [%]',\n",
    "                                   style={'description_width': 'initial'}))\n",
    "\n",
    "\n",
    "button = widgets.Button(\n",
    "     description='Start',\n",
    "     disabled=False,\n",
    "     button_style='', # 'success', 'info', 'warning', 'danger' or ''\n",
    "     tooltip='Start',\n",
    "     icon='check', # (FontAwesome names without the `fa-` prefix)\n",
    "     command=runModel\n",
    ")\n",
    "button.on_click(runModel)\n",
    "button"
   ]
  },
  {
   "cell_type": "code",
   "execution_count": null,
   "id": "7032423a",
   "metadata": {},
   "outputs": [],
   "source": []
  }
 ],
 "metadata": {
  "kernelspec": {
   "display_name": "Python 3 (ipykernel)",
   "language": "python",
   "name": "python3"
  },
  "language_info": {
   "codemirror_mode": {
    "name": "ipython",
    "version": 3
   },
   "file_extension": ".py",
   "mimetype": "text/x-python",
   "name": "python",
   "nbconvert_exporter": "python",
   "pygments_lexer": "ipython3",
   "version": "3.9.12"
  }
 },
 "nbformat": 4,
 "nbformat_minor": 5
}
